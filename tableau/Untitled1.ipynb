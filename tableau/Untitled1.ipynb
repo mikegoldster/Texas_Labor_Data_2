{
 "cells": [
  {
   "cell_type": "code",
   "execution_count": 1,
   "metadata": {},
   "outputs": [],
   "source": [
    "import pandas as pd\n",
    "import numpy as np\n",
    "from datetime import date"
   ]
  },
  {
   "cell_type": "code",
   "execution_count": 2,
   "metadata": {},
   "outputs": [],
   "source": [
    "file_path_1 = r'C:\\Users\\tolania\\OneDrive - Amni International Petroleum Company\\Desktop\\Project 3\\geodf.csv'"
   ]
  },
  {
   "cell_type": "code",
   "execution_count": 3,
   "metadata": {},
   "outputs": [],
   "source": [
    "file_path_2 = r'C:\\Users\\tolania\\OneDrive - Amni International Petroleum Company\\Desktop\\Project 3\\FinalClean2.xlsx'"
   ]
  },
  {
   "cell_type": "code",
   "execution_count": 4,
   "metadata": {},
   "outputs": [
    {
     "data": {
      "text/html": [
       "<div>\n",
       "<style scoped>\n",
       "    .dataframe tbody tr th:only-of-type {\n",
       "        vertical-align: middle;\n",
       "    }\n",
       "\n",
       "    .dataframe tbody tr th {\n",
       "        vertical-align: top;\n",
       "    }\n",
       "\n",
       "    .dataframe thead th {\n",
       "        text-align: right;\n",
       "    }\n",
       "</style>\n",
       "<table border=\"1\" class=\"dataframe\">\n",
       "  <thead>\n",
       "    <tr style=\"text-align: right;\">\n",
       "      <th></th>\n",
       "      <th>FIPS</th>\n",
       "      <th>REGION</th>\n",
       "      <th>lat</th>\n",
       "      <th>long</th>\n",
       "    </tr>\n",
       "  </thead>\n",
       "  <tbody>\n",
       "    <tr>\n",
       "      <th>0</th>\n",
       "      <td>48421</td>\n",
       "      <td>West Texas</td>\n",
       "      <td>-101.6234591</td>\n",
       "      <td>36.0631349</td>\n",
       "    </tr>\n",
       "    <tr>\n",
       "      <th>1</th>\n",
       "      <td>48421</td>\n",
       "      <td>West Texas</td>\n",
       "      <td>-101.6234571</td>\n",
       "      <td>36.0553989</td>\n",
       "    </tr>\n",
       "    <tr>\n",
       "      <th>2</th>\n",
       "      <td>48421</td>\n",
       "      <td>West Texas</td>\n",
       "      <td>-101.6254351</td>\n",
       "      <td>36.0553749</td>\n",
       "    </tr>\n",
       "    <tr>\n",
       "      <th>3</th>\n",
       "      <td>48421</td>\n",
       "      <td>West Texas</td>\n",
       "      <td>-101.6324171</td>\n",
       "      <td>36.05537591</td>\n",
       "    </tr>\n",
       "    <tr>\n",
       "      <th>4</th>\n",
       "      <td>48421</td>\n",
       "      <td>West Texas</td>\n",
       "      <td>-101.6373211</td>\n",
       "      <td>36.05537691</td>\n",
       "    </tr>\n",
       "  </tbody>\n",
       "</table>\n",
       "</div>"
      ],
      "text/plain": [
       "    FIPS      REGION           lat         long\n",
       "0  48421  West Texas  -101.6234591   36.0631349\n",
       "1  48421  West Texas  -101.6234571   36.0553989\n",
       "2  48421  West Texas  -101.6254351   36.0553749\n",
       "3  48421  West Texas  -101.6324171  36.05537591\n",
       "4  48421  West Texas  -101.6373211  36.05537691"
      ]
     },
     "execution_count": 4,
     "metadata": {},
     "output_type": "execute_result"
    }
   ],
   "source": [
    "df1=pd.read_csv(file_path_1,low_memory=False)\n",
    "df1.head(5)"
   ]
  },
  {
   "cell_type": "code",
   "execution_count": 9,
   "metadata": {},
   "outputs": [
    {
     "data": {
      "text/plain": [
       "array(['West Texas', 'Amarillo', 'Wichita Falls', 'North Texas',\n",
       "       'Sherman', 'Lubbock', 'Texarkana', 'Dallas', 'Abilene', 'Longview',\n",
       "       'Tyler', 'Midland', 'Hill Country', 'Odessa', 'El Paso',\n",
       "       'Big Thicket', 'Waco', 'Killeen-Temple', 'San Angelo',\n",
       "       'College Station', 'Beaumont', 'Austin', 'Houston', 'Border',\n",
       "       'San Antonio', 'Coastal Plains', 'Victoria', 'Corpus Christi',\n",
       "       'Laredo', 'McAllen', 'Brownsville'], dtype=object)"
      ]
     },
     "execution_count": 9,
     "metadata": {},
     "output_type": "execute_result"
    }
   ],
   "source": [
    "df1_a=df1.REGION.unique()\n",
    "df1_a"
   ]
  },
  {
   "cell_type": "code",
   "execution_count": 25,
   "metadata": {},
   "outputs": [
    {
     "data": {
      "text/html": [
       "<div>\n",
       "<style scoped>\n",
       "    .dataframe tbody tr th:only-of-type {\n",
       "        vertical-align: middle;\n",
       "    }\n",
       "\n",
       "    .dataframe tbody tr th {\n",
       "        vertical-align: top;\n",
       "    }\n",
       "\n",
       "    .dataframe thead th {\n",
       "        text-align: right;\n",
       "    }\n",
       "</style>\n",
       "<table border=\"1\" class=\"dataframe\">\n",
       "  <thead>\n",
       "    <tr style=\"text-align: right;\">\n",
       "      <th></th>\n",
       "      <th>FIPS</th>\n",
       "      <th>REGION</th>\n",
       "      <th>lat</th>\n",
       "      <th>long</th>\n",
       "    </tr>\n",
       "  </thead>\n",
       "  <tbody>\n",
       "    <tr>\n",
       "      <th>0</th>\n",
       "      <td>48421</td>\n",
       "      <td>North Texas</td>\n",
       "      <td>-101.6234591</td>\n",
       "      <td>36.0631349</td>\n",
       "    </tr>\n",
       "    <tr>\n",
       "      <th>1</th>\n",
       "      <td>48421</td>\n",
       "      <td>North Texas</td>\n",
       "      <td>-101.6234571</td>\n",
       "      <td>36.0553989</td>\n",
       "    </tr>\n",
       "    <tr>\n",
       "      <th>2</th>\n",
       "      <td>48421</td>\n",
       "      <td>North Texas</td>\n",
       "      <td>-101.6254351</td>\n",
       "      <td>36.0553749</td>\n",
       "    </tr>\n",
       "    <tr>\n",
       "      <th>3</th>\n",
       "      <td>48421</td>\n",
       "      <td>North Texas</td>\n",
       "      <td>-101.6324171</td>\n",
       "      <td>36.05537591</td>\n",
       "    </tr>\n",
       "    <tr>\n",
       "      <th>4</th>\n",
       "      <td>48421</td>\n",
       "      <td>North Texas</td>\n",
       "      <td>-101.6373211</td>\n",
       "      <td>36.05537691</td>\n",
       "    </tr>\n",
       "  </tbody>\n",
       "</table>\n",
       "</div>"
      ],
      "text/plain": [
       "    FIPS       REGION           lat         long\n",
       "0  48421  North Texas  -101.6234591   36.0631349\n",
       "1  48421  North Texas  -101.6234571   36.0553989\n",
       "2  48421  North Texas  -101.6254351   36.0553749\n",
       "3  48421  North Texas  -101.6324171  36.05537591\n",
       "4  48421  North Texas  -101.6373211  36.05537691"
      ]
     },
     "execution_count": 25,
     "metadata": {},
     "output_type": "execute_result"
    }
   ],
   "source": [
    "df1_b = df1[df1['REGION'] =='North Texas']\n",
    "\n",
    "df1_b.head(5)"
   ]
  },
  {
   "cell_type": "code",
   "execution_count": 21,
   "metadata": {},
   "outputs": [
    {
     "data": {
      "text/plain": [
       "array(['-101.6234591', '-101.6234571', '-101.6254351', ...,\n",
       "       '-98.58566478', '-97.44660056', '-97.22591848'], dtype=object)"
      ]
     },
     "execution_count": 21,
     "metadata": {},
     "output_type": "execute_result"
    }
   ],
   "source": [
    "df1_c=df1_b.lat.unique()\n",
    "df1_c"
   ]
  },
  {
   "cell_type": "code",
   "execution_count": 34,
   "metadata": {},
   "outputs": [
    {
     "name": "stdout",
     "output_type": "stream",
     "text": [
      "<class 'pandas.core.frame.DataFrame'>\n",
      "RangeIndex: 95776 entries, 0 to 95775\n",
      "Data columns (total 1 columns):\n",
      "0    95776 non-null object\n",
      "dtypes: object(1)\n",
      "memory usage: 748.3+ KB\n"
     ]
    }
   ],
   "source": [
    "df1_e = pd.DataFrame(data =df1_c)\n",
    "df1_e.info()"
   ]
  },
  {
   "cell_type": "code",
   "execution_count": 32,
   "metadata": {},
   "outputs": [
    {
     "data": {
      "text/plain": [
       "array(['36.0631349', '36.0553989', '36.0553749', ..., '26.25768796',\n",
       "       '26.41062019', '25.97433779'], dtype=object)"
      ]
     },
     "execution_count": 32,
     "metadata": {},
     "output_type": "execute_result"
    }
   ],
   "source": [
    "df1_d=df1_b.long.unique()\n",
    "df1_d"
   ]
  },
  {
   "cell_type": "code",
   "execution_count": 23,
   "metadata": {},
   "outputs": [
    {
     "name": "stdout",
     "output_type": "stream",
     "text": [
      "<class 'pandas.core.frame.DataFrame'>\n",
      "Int64Index: 166739 entries, 0 to 166738\n",
      "Data columns (total 4 columns):\n",
      "FIPS      166739 non-null int64\n",
      "REGION    166739 non-null object\n",
      "lat       166739 non-null object\n",
      "long      166739 non-null object\n",
      "dtypes: int64(1), object(3)\n",
      "memory usage: 6.4+ MB\n"
     ]
    }
   ],
   "source": [
    "df1_b.info()"
   ]
  },
  {
   "cell_type": "code",
   "execution_count": 26,
   "metadata": {},
   "outputs": [
    {
     "data": {
      "text/html": [
       "<div>\n",
       "<style scoped>\n",
       "    .dataframe tbody tr th:only-of-type {\n",
       "        vertical-align: middle;\n",
       "    }\n",
       "\n",
       "    .dataframe tbody tr th {\n",
       "        vertical-align: top;\n",
       "    }\n",
       "\n",
       "    .dataframe thead th {\n",
       "        text-align: right;\n",
       "    }\n",
       "</style>\n",
       "<table border=\"1\" class=\"dataframe\">\n",
       "  <thead>\n",
       "    <tr style=\"text-align: right;\">\n",
       "      <th></th>\n",
       "      <th>State</th>\n",
       "      <th>REGION</th>\n",
       "      <th>Occupation</th>\n",
       "      <th>Total_Employee</th>\n",
       "      <th>Hourly_Mean</th>\n",
       "      <th>Annual_Mean</th>\n",
       "      <th>Year</th>\n",
       "      <th>FIPS</th>\n",
       "      <th>lat</th>\n",
       "      <th>long</th>\n",
       "    </tr>\n",
       "  </thead>\n",
       "  <tbody>\n",
       "    <tr>\n",
       "      <th>0</th>\n",
       "      <td>TX</td>\n",
       "      <td>Abilene</td>\n",
       "      <td>MANAGEMENT OCCUPATIONS</td>\n",
       "      <td>3230.0</td>\n",
       "      <td>24.56</td>\n",
       "      <td>51080.0</td>\n",
       "      <td>2000.0</td>\n",
       "      <td>48253.0</td>\n",
       "      <td>-100.023</td>\n",
       "      <td>32.9602</td>\n",
       "    </tr>\n",
       "    <tr>\n",
       "      <th>1</th>\n",
       "      <td>TX</td>\n",
       "      <td>Abilene</td>\n",
       "      <td>CHIEF EXECUTIVES</td>\n",
       "      <td>270.0</td>\n",
       "      <td>38.44</td>\n",
       "      <td>79950.0</td>\n",
       "      <td>2000.0</td>\n",
       "      <td>48253.0</td>\n",
       "      <td>-100.02</td>\n",
       "      <td>32.9602</td>\n",
       "    </tr>\n",
       "    <tr>\n",
       "      <th>2</th>\n",
       "      <td>TX</td>\n",
       "      <td>Abilene</td>\n",
       "      <td>GENERAL AND OPERATIONS MANAGERS</td>\n",
       "      <td>1310.0</td>\n",
       "      <td>24.34</td>\n",
       "      <td>50630.0</td>\n",
       "      <td>2000.0</td>\n",
       "      <td>48253.0</td>\n",
       "      <td>-100.018</td>\n",
       "      <td>32.9602</td>\n",
       "    </tr>\n",
       "    <tr>\n",
       "      <th>3</th>\n",
       "      <td>TX</td>\n",
       "      <td>Abilene</td>\n",
       "      <td>ADVERTISING AND PROMOTIONS MANAGERS</td>\n",
       "      <td>40.0</td>\n",
       "      <td>22.63</td>\n",
       "      <td>47060.0</td>\n",
       "      <td>2000.0</td>\n",
       "      <td>48253.0</td>\n",
       "      <td>-100.016</td>\n",
       "      <td>32.9602</td>\n",
       "    </tr>\n",
       "    <tr>\n",
       "      <th>4</th>\n",
       "      <td>TX</td>\n",
       "      <td>Abilene</td>\n",
       "      <td>MARKETING MANAGERS</td>\n",
       "      <td>60.0</td>\n",
       "      <td>24.48</td>\n",
       "      <td>50910.0</td>\n",
       "      <td>2000.0</td>\n",
       "      <td>48253.0</td>\n",
       "      <td>-100</td>\n",
       "      <td>32.9602</td>\n",
       "    </tr>\n",
       "  </tbody>\n",
       "</table>\n",
       "</div>"
      ],
      "text/plain": [
       "  State   REGION                           Occupation  Total_Employee  \\\n",
       "0    TX  Abilene               MANAGEMENT OCCUPATIONS          3230.0   \n",
       "1    TX  Abilene                     CHIEF EXECUTIVES           270.0   \n",
       "2    TX  Abilene      GENERAL AND OPERATIONS MANAGERS          1310.0   \n",
       "3    TX  Abilene  ADVERTISING AND PROMOTIONS MANAGERS            40.0   \n",
       "4    TX  Abilene                   MARKETING MANAGERS            60.0   \n",
       "\n",
       "   Hourly_Mean  Annual_Mean    Year     FIPS      lat     long  \n",
       "0        24.56      51080.0  2000.0  48253.0 -100.023  32.9602  \n",
       "1        38.44      79950.0  2000.0  48253.0  -100.02  32.9602  \n",
       "2        24.34      50630.0  2000.0  48253.0 -100.018  32.9602  \n",
       "3        22.63      47060.0  2000.0  48253.0 -100.016  32.9602  \n",
       "4        24.48      50910.0  2000.0  48253.0     -100  32.9602  "
      ]
     },
     "execution_count": 26,
     "metadata": {},
     "output_type": "execute_result"
    }
   ],
   "source": [
    "df2=pd.read_excel(file_path_2)\n",
    "df2.head(5)"
   ]
  },
  {
   "cell_type": "code",
   "execution_count": 27,
   "metadata": {},
   "outputs": [
    {
     "data": {
      "text/plain": [
       "array(['Abilene', nan, 'Amarillo', 'Austin', 'Brownsville', 'Border',\n",
       "       'Big Thicket', 'Big Thicket ', 'Beaumont', 'Coastal Plains',\n",
       "       'College Station', 'Corpus Christi', 'Dallas', 'El Paso',\n",
       "       'Hill Country', 'Houston', 'Killeen-Temple', 'Laredo', 'Longview',\n",
       "       'Lubbock', 'McAllen', 'Midland', 'North  Texas', 'Odessa',\n",
       "       'San Angelo', 'San Antonio', 'Sherman', 'Texarkana', 'Tyler',\n",
       "       'Victoria', 'West Texas', 'Waco', 'Wichita Falls'], dtype=object)"
      ]
     },
     "execution_count": 27,
     "metadata": {},
     "output_type": "execute_result"
    }
   ],
   "source": [
    "df2_a=df2.REGION.unique()\n",
    "df2_a"
   ]
  },
  {
   "cell_type": "code",
   "execution_count": 28,
   "metadata": {},
   "outputs": [
    {
     "data": {
      "text/html": [
       "<div>\n",
       "<style scoped>\n",
       "    .dataframe tbody tr th:only-of-type {\n",
       "        vertical-align: middle;\n",
       "    }\n",
       "\n",
       "    .dataframe tbody tr th {\n",
       "        vertical-align: top;\n",
       "    }\n",
       "\n",
       "    .dataframe thead th {\n",
       "        text-align: right;\n",
       "    }\n",
       "</style>\n",
       "<table border=\"1\" class=\"dataframe\">\n",
       "  <thead>\n",
       "    <tr style=\"text-align: right;\">\n",
       "      <th></th>\n",
       "      <th>State</th>\n",
       "      <th>REGION</th>\n",
       "      <th>Occupation</th>\n",
       "      <th>Total_Employee</th>\n",
       "      <th>Hourly_Mean</th>\n",
       "      <th>Annual_Mean</th>\n",
       "      <th>Year</th>\n",
       "      <th>FIPS</th>\n",
       "      <th>lat</th>\n",
       "      <th>long</th>\n",
       "    </tr>\n",
       "  </thead>\n",
       "  <tbody>\n",
       "    <tr>\n",
       "      <th>51474</th>\n",
       "      <td>TX</td>\n",
       "      <td>North  Texas</td>\n",
       "      <td>ALL OCCUPATIONS</td>\n",
       "      <td>73510.0</td>\n",
       "      <td>13.86</td>\n",
       "      <td>28840.0</td>\n",
       "      <td>2006.0</td>\n",
       "      <td>48337.0</td>\n",
       "      <td>-97.5952</td>\n",
       "      <td>33.9375</td>\n",
       "    </tr>\n",
       "    <tr>\n",
       "      <th>51475</th>\n",
       "      <td>TX</td>\n",
       "      <td>North  Texas</td>\n",
       "      <td>MANAGEMENT OCCUPATIONS</td>\n",
       "      <td>2690.0</td>\n",
       "      <td>33.29</td>\n",
       "      <td>69240.0</td>\n",
       "      <td>2006.0</td>\n",
       "      <td>48337.0</td>\n",
       "      <td>-97.5935</td>\n",
       "      <td>33.9341</td>\n",
       "    </tr>\n",
       "    <tr>\n",
       "      <th>51476</th>\n",
       "      <td>TX</td>\n",
       "      <td>North  Texas</td>\n",
       "      <td>CHIEF EXECUTIVES</td>\n",
       "      <td>80.0</td>\n",
       "      <td>49.64</td>\n",
       "      <td>103240.0</td>\n",
       "      <td>2006.0</td>\n",
       "      <td>48337.0</td>\n",
       "      <td>-97.593</td>\n",
       "      <td>33.9335</td>\n",
       "    </tr>\n",
       "    <tr>\n",
       "      <th>51477</th>\n",
       "      <td>TX</td>\n",
       "      <td>North  Texas</td>\n",
       "      <td>GENERAL AND OPERATIONS MANAGERS</td>\n",
       "      <td>1060.0</td>\n",
       "      <td>36.47</td>\n",
       "      <td>75850.0</td>\n",
       "      <td>2006.0</td>\n",
       "      <td>48337.0</td>\n",
       "      <td>-97.5922</td>\n",
       "      <td>33.9324</td>\n",
       "    </tr>\n",
       "    <tr>\n",
       "      <th>51478</th>\n",
       "      <td>TX</td>\n",
       "      <td>North  Texas</td>\n",
       "      <td>SALES MANAGERS</td>\n",
       "      <td>100.0</td>\n",
       "      <td>50.28</td>\n",
       "      <td>104580.0</td>\n",
       "      <td>2006.0</td>\n",
       "      <td>48337.0</td>\n",
       "      <td>-97.5914</td>\n",
       "      <td>33.9314</td>\n",
       "    </tr>\n",
       "  </tbody>\n",
       "</table>\n",
       "</div>"
      ],
      "text/plain": [
       "      State        REGION                       Occupation  Total_Employee  \\\n",
       "51474    TX  North  Texas                  ALL OCCUPATIONS         73510.0   \n",
       "51475    TX  North  Texas           MANAGEMENT OCCUPATIONS          2690.0   \n",
       "51476    TX  North  Texas                 CHIEF EXECUTIVES            80.0   \n",
       "51477    TX  North  Texas  GENERAL AND OPERATIONS MANAGERS          1060.0   \n",
       "51478    TX  North  Texas                   SALES MANAGERS           100.0   \n",
       "\n",
       "       Hourly_Mean  Annual_Mean    Year     FIPS      lat     long  \n",
       "51474        13.86      28840.0  2006.0  48337.0 -97.5952  33.9375  \n",
       "51475        33.29      69240.0  2006.0  48337.0 -97.5935  33.9341  \n",
       "51476        49.64     103240.0  2006.0  48337.0  -97.593  33.9335  \n",
       "51477        36.47      75850.0  2006.0  48337.0 -97.5922  33.9324  \n",
       "51478        50.28     104580.0  2006.0  48337.0 -97.5914  33.9314  "
      ]
     },
     "execution_count": 28,
     "metadata": {},
     "output_type": "execute_result"
    }
   ],
   "source": [
    "df2_b = df2[df2['REGION'] =='North  Texas']\n",
    "\n",
    "df2_b.head(5)"
   ]
  },
  {
   "cell_type": "code",
   "execution_count": 29,
   "metadata": {},
   "outputs": [
    {
     "name": "stdout",
     "output_type": "stream",
     "text": [
      "<class 'pandas.core.frame.DataFrame'>\n",
      "Int64Index: 1886 entries, 51474 to 53359\n",
      "Data columns (total 10 columns):\n",
      "State             1886 non-null object\n",
      "REGION            1886 non-null object\n",
      "Occupation        1886 non-null object\n",
      "Total_Employee    1886 non-null float64\n",
      "Hourly_Mean       1886 non-null float64\n",
      "Annual_Mean       1886 non-null float64\n",
      "Year              1886 non-null float64\n",
      "FIPS              1886 non-null float64\n",
      "lat               1886 non-null object\n",
      "long              1886 non-null object\n",
      "dtypes: float64(5), object(5)\n",
      "memory usage: 162.1+ KB\n"
     ]
    }
   ],
   "source": [
    "\n",
    "df2_b.info()"
   ]
  },
  {
   "cell_type": "code",
   "execution_count": null,
   "metadata": {},
   "outputs": [],
   "source": [
    "# df2[\"Year\"]= df2[\"Year\"].astype(str)\n",
    "# df2[\"Year\"]"
   ]
  },
  {
   "cell_type": "code",
   "execution_count": null,
   "metadata": {},
   "outputs": [],
   "source": [
    "df2['Year'] = pd.to_datetime(df2['Year'], format=\"%Y\")\n",
    "df2['Year']"
   ]
  },
  {
   "cell_type": "code",
   "execution_count": null,
   "metadata": {},
   "outputs": [],
   "source": [
    "df2"
   ]
  },
  {
   "cell_type": "code",
   "execution_count": null,
   "metadata": {},
   "outputs": [],
   "source": [
    "df4=set(df1['REGION']).intersection(set(df2['REGION']))\n",
    "df4"
   ]
  },
  {
   "cell_type": "code",
   "execution_count": null,
   "metadata": {},
   "outputs": [],
   "source": [
    "RegionList =['Abilene','Amarillo','Austin','Beaumont','Big Thicket','Border','Brownsville','Coastal Plains','College Station','Corpus Christi','Dallas',\n",
    " 'El Paso','Hill Country','Houston','Killeen-Temple','Laredo','Longview','Lubbock','McAllen','Midland','Odessa','San Angelo','San Antonio','Sherman',\n",
    "'Texarkana','Tyler','Victoria','Waco','West Texas','Wichita Falls']"
   ]
  },
  {
   "cell_type": "code",
   "execution_count": null,
   "metadata": {},
   "outputs": [],
   "source": []
  },
  {
   "cell_type": "code",
   "execution_count": null,
   "metadata": {},
   "outputs": [],
   "source": [
    "df_new=  pd.concat([df1, df2], axis=1, sort=False)\n",
    "df_new=df_new.drop( columns='Unnamed: 0')\n",
    "# df_new=df_new.drop( columns='Unnamed: 0_y')\n",
    "df_new.head(5)"
   ]
  },
  {
   "cell_type": "code",
   "execution_count": null,
   "metadata": {},
   "outputs": [],
   "source": [
    "df_new3=pd.merge(df1, df2, on='REGION',how='inner')\n",
    "df_new3"
   ]
  },
  {
   "cell_type": "code",
   "execution_count": null,
   "metadata": {
    "scrolled": false
   },
   "outputs": [],
   "source": []
  },
  {
   "cell_type": "code",
   "execution_count": null,
   "metadata": {},
   "outputs": [],
   "source": [
    "df_new1=  pd.concat([df2, df1], axis=1, sort=False)\n",
    "# df_new=df_new.drop( columns='Unnamed: 0_x')\n",
    "# df_new=df_new.drop( columns='Unnamed: 0_y')\n",
    "df_new1.head()"
   ]
  },
  {
   "cell_type": "code",
   "execution_count": null,
   "metadata": {},
   "outputs": [],
   "source": [
    "df_new1.info()"
   ]
  },
  {
   "cell_type": "code",
   "execution_count": null,
   "metadata": {},
   "outputs": [],
   "source": [
    "df_new=df_new.drop( columns=['Unnamed: 0_x','Unnamed: 0_y'])\n",
    "\n",
    "df_new.head(5)"
   ]
  },
  {
   "cell_type": "code",
   "execution_count": null,
   "metadata": {},
   "outputs": [],
   "source": [
    "df_new['State']= df_new['State'].astype(str)"
   ]
  },
  {
   "cell_type": "code",
   "execution_count": null,
   "metadata": {},
   "outputs": [],
   "source": [
    "df_new=df_new.dropna(how='any')"
   ]
  },
  {
   "cell_type": "code",
   "execution_count": null,
   "metadata": {},
   "outputs": [],
   "source": [
    "df_new.info()"
   ]
  },
  {
   "cell_type": "code",
   "execution_count": null,
   "metadata": {},
   "outputs": [],
   "source": [
    "df_new.head(5)"
   ]
  },
  {
   "cell_type": "code",
   "execution_count": null,
   "metadata": {},
   "outputs": [],
   "source": [
    "df3=df3.drop( columns=['Unnamed: 0'])\n"
   ]
  },
  {
   "cell_type": "code",
   "execution_count": null,
   "metadata": {},
   "outputs": [],
   "source": [
    "df_new_2= pd.merge(df2,df3, on= 'REGION', how= 'inner' )\n",
    "df_new_2.head(5)"
   ]
  },
  {
   "cell_type": "code",
   "execution_count": null,
   "metadata": {},
   "outputs": [],
   "source": [
    "df_new.to_csv('joinedyearformatted.csv')"
   ]
  },
  {
   "cell_type": "code",
   "execution_count": null,
   "metadata": {},
   "outputs": [],
   "source": [
    "df2.to_csv('FinalClean3.csv')"
   ]
  },
  {
   "cell_type": "code",
   "execution_count": null,
   "metadata": {},
   "outputs": [],
   "source": [
    "df_new_2= pd.merge(df2,df3, on= 'REGION', how= 'inner' )\n",
    "df_new_2.head(5)"
   ]
  }
 ],
 "metadata": {
  "kernelspec": {
   "display_name": "Python 3",
   "language": "python",
   "name": "python3"
  },
  "language_info": {
   "codemirror_mode": {
    "name": "ipython",
    "version": 3
   },
   "file_extension": ".py",
   "mimetype": "text/x-python",
   "name": "python",
   "nbconvert_exporter": "python",
   "pygments_lexer": "ipython3",
   "version": "3.7.1"
  }
 },
 "nbformat": 4,
 "nbformat_minor": 2
}
