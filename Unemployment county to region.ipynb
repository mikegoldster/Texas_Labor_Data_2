{
 "cells": [
  {
   "cell_type": "code",
   "execution_count": 166,
   "metadata": {},
   "outputs": [],
   "source": [
    "import pandas as pd\n",
    "from bs4 import BeautifulSoup as bs\n",
    "import requests"
   ]
  },
  {
   "cell_type": "code",
   "execution_count": 167,
   "metadata": {},
   "outputs": [],
   "source": [
    "un=pd.read_csv(\"Unemployment by county 2000-2018.csv\")"
   ]
  },
  {
   "cell_type": "code",
   "execution_count": 168,
   "metadata": {},
   "outputs": [
    {
     "data": {
      "text/html": [
       "<div>\n",
       "<style scoped>\n",
       "    .dataframe tbody tr th:only-of-type {\n",
       "        vertical-align: middle;\n",
       "    }\n",
       "\n",
       "    .dataframe tbody tr th {\n",
       "        vertical-align: top;\n",
       "    }\n",
       "\n",
       "    .dataframe thead th {\n",
       "        text-align: right;\n",
       "    }\n",
       "</style>\n",
       "<table border=\"1\" class=\"dataframe\">\n",
       "  <thead>\n",
       "    <tr style=\"text-align: right;\">\n",
       "      <th></th>\n",
       "      <th>LAUS Code</th>\n",
       "      <th>State FIPS Code</th>\n",
       "      <th>County FIPS Code</th>\n",
       "      <th>County Name/State Abbreviation</th>\n",
       "      <th>Year</th>\n",
       "      <th>LaborForce</th>\n",
       "      <th>Employed</th>\n",
       "      <th>Unemployed</th>\n",
       "      <th>Unemployment rate (%)</th>\n",
       "      <th>Region</th>\n",
       "    </tr>\n",
       "  </thead>\n",
       "  <tbody>\n",
       "    <tr>\n",
       "      <th>0</th>\n",
       "      <td>CN4800100000000</td>\n",
       "      <td>48</td>\n",
       "      <td>1</td>\n",
       "      <td>Anderson County, TX</td>\n",
       "      <td>2000</td>\n",
       "      <td>19,623</td>\n",
       "      <td>18,442</td>\n",
       "      <td>1,181</td>\n",
       "      <td>6.0</td>\n",
       "      <td></td>\n",
       "    </tr>\n",
       "    <tr>\n",
       "      <th>1</th>\n",
       "      <td>CN4800300000000</td>\n",
       "      <td>48</td>\n",
       "      <td>3</td>\n",
       "      <td>Andrews County, TX</td>\n",
       "      <td>2000</td>\n",
       "      <td>5,628</td>\n",
       "      <td>5,354</td>\n",
       "      <td>274</td>\n",
       "      <td>4.9</td>\n",
       "      <td></td>\n",
       "    </tr>\n",
       "    <tr>\n",
       "      <th>2</th>\n",
       "      <td>CN4800500000000</td>\n",
       "      <td>48</td>\n",
       "      <td>5</td>\n",
       "      <td>Angelina County, TX</td>\n",
       "      <td>2000</td>\n",
       "      <td>37,984</td>\n",
       "      <td>36,179</td>\n",
       "      <td>1,805</td>\n",
       "      <td>4.8</td>\n",
       "      <td></td>\n",
       "    </tr>\n",
       "    <tr>\n",
       "      <th>3</th>\n",
       "      <td>CN4800700000000</td>\n",
       "      <td>48</td>\n",
       "      <td>7</td>\n",
       "      <td>Aransas County, TX</td>\n",
       "      <td>2000</td>\n",
       "      <td>9,737</td>\n",
       "      <td>9,166</td>\n",
       "      <td>571</td>\n",
       "      <td>5.9</td>\n",
       "      <td></td>\n",
       "    </tr>\n",
       "    <tr>\n",
       "      <th>4</th>\n",
       "      <td>CN4800900000000</td>\n",
       "      <td>48</td>\n",
       "      <td>9</td>\n",
       "      <td>Archer County, TX</td>\n",
       "      <td>2000</td>\n",
       "      <td>4,871</td>\n",
       "      <td>4,717</td>\n",
       "      <td>154</td>\n",
       "      <td>3.2</td>\n",
       "      <td></td>\n",
       "    </tr>\n",
       "  </tbody>\n",
       "</table>\n",
       "</div>"
      ],
      "text/plain": [
       "         LAUS Code  State FIPS Code  County FIPS Code  \\\n",
       "0  CN4800100000000               48                 1   \n",
       "1  CN4800300000000               48                 3   \n",
       "2  CN4800500000000               48                 5   \n",
       "3  CN4800700000000               48                 7   \n",
       "4  CN4800900000000               48                 9   \n",
       "\n",
       "  County Name/State Abbreviation  Year LaborForce Employed Unemployed  \\\n",
       "0            Anderson County, TX  2000     19,623   18,442      1,181   \n",
       "1             Andrews County, TX  2000      5,628    5,354        274   \n",
       "2            Angelina County, TX  2000     37,984   36,179      1,805   \n",
       "3             Aransas County, TX  2000      9,737    9,166        571   \n",
       "4              Archer County, TX  2000      4,871    4,717        154   \n",
       "\n",
       "   Unemployment rate (%) Region  \n",
       "0                    6.0         \n",
       "1                    4.9         \n",
       "2                    4.8         \n",
       "3                    5.9         \n",
       "4                    3.2         "
      ]
     },
     "execution_count": 168,
     "metadata": {},
     "output_type": "execute_result"
    }
   ],
   "source": [
    "county=un['County Name/State Abbreviation']\n",
    "un['Region']=''\n",
    "un.head()"
   ]
  },
  {
   "cell_type": "code",
   "execution_count": 169,
   "metadata": {},
   "outputs": [],
   "source": [
    "url='https://www.bls.gov/oes/current/msa_def.htm#T'\n",
    "response=requests.get(url)\n",
    "soup=bs(response.text, 'html.parser')"
   ]
  },
  {
   "cell_type": "code",
   "execution_count": 193,
   "metadata": {},
   "outputs": [
    {
     "data": {
      "text/plain": [
       "'Abilene, TX'"
      ]
     },
     "execution_count": 193,
     "metadata": {},
     "output_type": "execute_result"
    }
   ],
   "source": [
    "lis=[]\n",
    "soup.find_all('ul')[1024].h3.text"
   ]
  },
  {
   "cell_type": "code",
   "execution_count": 194,
   "metadata": {},
   "outputs": [
    {
     "ename": "AttributeError",
     "evalue": "'NoneType' object has no attribute 'text'",
     "output_type": "error",
     "traceback": [
      "\u001b[1;31m---------------------------------------------------------------------------\u001b[0m",
      "\u001b[1;31mAttributeError\u001b[0m                            Traceback (most recent call last)",
      "\u001b[1;32m<ipython-input-194-01f1b7dab9be>\u001b[0m in \u001b[0;36m<module>\u001b[1;34m\u001b[0m\n\u001b[0;32m      3\u001b[0m \u001b[1;32mfor\u001b[0m \u001b[0mx\u001b[0m \u001b[1;32min\u001b[0m \u001b[0mrange\u001b[0m\u001b[1;33m(\u001b[0m\u001b[1;36m1025\u001b[0m\u001b[1;33m,\u001b[0m\u001b[1;36m1089\u001b[0m\u001b[1;33m)\u001b[0m\u001b[1;33m:\u001b[0m\u001b[1;33m\u001b[0m\u001b[1;33m\u001b[0m\u001b[0m\n\u001b[0;32m      4\u001b[0m     \u001b[1;32mif\u001b[0m \u001b[1;33m(\u001b[0m\u001b[0mx\u001b[0m \u001b[1;33m%\u001b[0m \u001b[1;36m2\u001b[0m\u001b[1;33m)\u001b[0m \u001b[1;33m==\u001b[0m \u001b[1;36m0\u001b[0m\u001b[1;33m:\u001b[0m\u001b[1;33m\u001b[0m\u001b[1;33m\u001b[0m\u001b[0m\n\u001b[1;32m----> 5\u001b[1;33m         \u001b[0mh3s\u001b[0m\u001b[1;33m=\u001b[0m\u001b[0msoup\u001b[0m\u001b[1;33m.\u001b[0m\u001b[0mfind_all\u001b[0m\u001b[1;33m(\u001b[0m\u001b[1;34m'ul'\u001b[0m\u001b[1;33m)\u001b[0m\u001b[1;33m[\u001b[0m\u001b[0mx\u001b[0m\u001b[1;33m]\u001b[0m\u001b[1;33m.\u001b[0m\u001b[0mh3\u001b[0m\u001b[1;33m.\u001b[0m\u001b[0mtext\u001b[0m\u001b[1;33m\u001b[0m\u001b[1;33m\u001b[0m\u001b[0m\n\u001b[0m\u001b[0;32m      6\u001b[0m         \u001b[0mlis\u001b[0m\u001b[1;33m.\u001b[0m\u001b[0mappend\u001b[0m\u001b[1;33m(\u001b[0m\u001b[0mh3s\u001b[0m\u001b[1;33m)\u001b[0m\u001b[1;33m\u001b[0m\u001b[1;33m\u001b[0m\u001b[0m\n\u001b[0;32m      7\u001b[0m \u001b[0mlis\u001b[0m\u001b[1;33m\u001b[0m\u001b[1;33m\u001b[0m\u001b[0m\n",
      "\u001b[1;31mAttributeError\u001b[0m: 'NoneType' object has no attribute 'text'"
     ]
    }
   ],
   "source": [
    "lis=[]\n",
    "# lis.append(soup.find_all('ul')[1024].find('li')\n",
    "for x in range(1025,1089):\n",
    "    if (x % 2) == 0:\n",
    "        h3s=soup.find_all('ul')[x].h3\n",
    "        \n",
    "        lis.append(h3s)   \n",
    "lis"
   ]
  },
  {
   "cell_type": "code",
   "execution_count": 58,
   "metadata": {},
   "outputs": [],
   "source": [
    "alls=soup.find_all('')\n",
    "for ul in alls:\n",
    "    for a in soup.find_all('a'):\n",
    "        soup.find_all('h3')\n",
    "        for ul2 in soup.find_all('ul'):\n",
    "            for li in soup.find_all('li'):\n",
    "                if county == li:\n",
    "                    un['Region'] == ul2.h3\n",
    "                    "
   ]
  },
  {
   "cell_type": "code",
   "execution_count": 56,
   "metadata": {},
   "outputs": [],
   "source": [
    "if soup.h3 == '*, TX':\n",
    "    print(soup.find_all('h3'))"
   ]
  },
  {
   "cell_type": "code",
   "execution_count": 60,
   "metadata": {},
   "outputs": [
    {
     "data": {
      "text/plain": [
       "254"
      ]
     },
     "execution_count": 60,
     "metadata": {},
     "output_type": "execute_result"
    }
   ],
   "source": [
    "county.nunique()"
   ]
  },
  {
   "cell_type": "code",
   "execution_count": 68,
   "metadata": {},
   "outputs": [
    {
     "ename": "IndexError",
     "evalue": "list index out of range",
     "output_type": "error",
     "traceback": [
      "\u001b[1;31m---------------------------------------------------------------------------\u001b[0m",
      "\u001b[1;31mIndexError\u001b[0m                                Traceback (most recent call last)",
      "\u001b[1;32m<ipython-input-68-fbe77881f68e>\u001b[0m in \u001b[0;36m<module>\u001b[1;34m\u001b[0m\n\u001b[1;32m----> 1\u001b[1;33m \u001b[0mpd\u001b[0m\u001b[1;33m.\u001b[0m\u001b[0mread_html\u001b[0m\u001b[1;33m(\u001b[0m\u001b[0murl\u001b[0m\u001b[1;33m)\u001b[0m\u001b[1;33m[\u001b[0m\u001b[1;36m2\u001b[0m\u001b[1;33m]\u001b[0m\u001b[1;33m\u001b[0m\u001b[1;33m\u001b[0m\u001b[0m\n\u001b[0m",
      "\u001b[1;31mIndexError\u001b[0m: list index out of range"
     ]
    }
   ],
   "source": [
    "pd.read_html(url)"
   ]
  },
  {
   "cell_type": "code",
   "execution_count": null,
   "metadata": {},
   "outputs": [],
   "source": []
  }
 ],
 "metadata": {
  "kernelspec": {
   "display_name": "Python 3",
   "language": "python",
   "name": "python3"
  },
  "language_info": {
   "codemirror_mode": {
    "name": "ipython",
    "version": 3
   },
   "file_extension": ".py",
   "mimetype": "text/x-python",
   "name": "python",
   "nbconvert_exporter": "python",
   "pygments_lexer": "ipython3",
   "version": "3.7.1"
  }
 },
 "nbformat": 4,
 "nbformat_minor": 2
}
